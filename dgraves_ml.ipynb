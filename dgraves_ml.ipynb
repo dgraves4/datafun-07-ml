{
 "cells": [
  {
   "cell_type": "code",
   "execution_count": null,
   "metadata": {},
   "outputs": [],
   "source": [
    "# Project 7: Machine Learning using Simple Linear Regression \n",
    "## Project Summary:\n",
    "- **Author** Derek Graves\n",
    "- **Date** 22 Feb 2024\n",
    "- **Purpose** This project is a guided learning exercise that serves to showcase the use of machine learning, and in particular, a simple type of supervised machine learning called simple linear regression to build a model, make predictions, visualize the model, and publish insights about the final product. "
   ]
  }
 ],
 "metadata": {
  "kernelspec": {
   "display_name": ".venv",
   "language": "python",
   "name": "python3"
  },
  "language_info": {
   "name": "python",
   "version": "3.12.1"
  }
 },
 "nbformat": 4,
 "nbformat_minor": 2
}
